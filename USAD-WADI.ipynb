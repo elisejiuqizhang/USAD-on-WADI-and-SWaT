{
 "cells": [
  {
   "cell_type": "markdown",
   "metadata": {
    "id": "etniX_KTlJ5U"
   },
   "source": [
    "# USAD"
   ]
  },
  {
   "cell_type": "markdown",
   "metadata": {
    "id": "N3jM0qLU8MgZ"
   },
   "source": [
    "## Environment"
   ]
  },
  {
   "cell_type": "code",
   "execution_count": 249,
   "metadata": {
    "id": "rjheCL2b1Rnw"
   },
   "outputs": [
    {
     "name": "stdout",
     "output_type": "stream",
     "text": [
      "rm: cannot remove 'sample_data': No such file or directory\n"
     ]
    }
   ],
   "source": [
    "!rm -r sample_data"
   ]
  },
  {
   "cell_type": "code",
   "execution_count": 250,
   "metadata": {
    "colab": {
     "base_uri": "https://localhost:8080/",
     "height": 118
    },
    "id": "e3dDxs8LFZdT",
    "outputId": "ebff804d-1c59-4039-d869-f65907b19712"
   },
   "outputs": [],
   "source": [
    "# !git clone https://github.com/manigalati/usad"
   ]
  },
  {
   "cell_type": "code",
   "execution_count": 251,
   "metadata": {
    "colab": {
     "base_uri": "https://localhost:8080/",
     "height": 34
    },
    "id": "te9stFZtFfZu",
    "outputId": "3ca36b3b-dd9a-413c-873f-ab730285ad51"
   },
   "outputs": [
    {
     "name": "stdout",
     "output_type": "stream",
     "text": [
      "/usr/local/data/elisejzh/Projects/usad\n"
     ]
    }
   ],
   "source": [
    "%cd /usr/local/data/elisejzh/Projects/usad"
   ]
  },
  {
   "cell_type": "code",
   "execution_count": 252,
   "metadata": {
    "id": "6u1DGKsAlLF-"
   },
   "outputs": [],
   "source": [
    "import numpy as np\n",
    "import pandas as pd\n",
    "import matplotlib.pyplot as plt\n",
    "import seaborn as sns\n",
    "import torch\n",
    "import torch.nn as nn\n",
    "from datetime import datetime\n",
    "from utils import *\n",
    "from usad import *"
   ]
  },
  {
   "cell_type": "code",
   "execution_count": 253,
   "metadata": {
    "colab": {
     "base_uri": "https://localhost:8080/",
     "height": 34
    },
    "id": "4AzWlDBI_djV",
    "outputId": "7a8d0c19-2389-461b-c0be-3427a25dda91"
   },
   "outputs": [
    {
     "name": "stdout",
     "output_type": "stream",
     "text": [
      "GPU 0: NVIDIA GeForce RTX 3090 (UUID: GPU-b7283323-3998-2b76-97e2-3017160af059)\n"
     ]
    }
   ],
   "source": [
    "!nvidia-smi -L\n",
    "\n",
    "device = get_default_device()"
   ]
  },
  {
   "cell_type": "markdown",
   "metadata": {
    "id": "1crx5rGP9ONf"
   },
   "source": [
    "## EDA - Data Pre-Processing"
   ]
  },
  {
   "cell_type": "markdown",
   "metadata": {
    "id": "vxofeE469RhT"
   },
   "source": [
    "### Download dataset\n",
    "This dataset is shared to me by a read-only link, so the following way of downloading can't seem to work. So the only way is to manually download and upload it to the working folder named 'input'."
   ]
  },
  {
   "cell_type": "code",
   "execution_count": 254,
   "metadata": {
    "colab": {
     "base_uri": "https://localhost:8080/",
     "height": 84
    },
    "id": "i95DlAZI1G_p",
    "outputId": "5b35771c-356e-4e0b-a997-682d1ea85c6a",
    "scrolled": false
   },
   "outputs": [],
   "source": [
    "# !mkdir input\n",
    "# #normal period\n",
    "# !python gdrivedl.py https://drive.google.com/open?id=1_LnLF3iDl6Rrupr0BsejXPiiQeocZaKV input/\n",
    "# #anomalies\n",
    "# !python gdrivedl.py https://drive.google.com/open?id=1WtFJs4_m4hpeytUrrIO5-MOilShVsDll input/"
   ]
  },
  {
   "cell_type": "markdown",
   "metadata": {
    "id": "kfSj4FYL9W8Y"
   },
   "source": [
    "### Normal period"
   ]
  },
  {
   "cell_type": "code",
   "execution_count": 255,
   "metadata": {
    "colab": {
     "base_uri": "https://localhost:8080/",
     "height": 87
    },
    "id": "XeDLxV_r1G9n",
    "outputId": "576538dd-64f2-46fa-8e6f-6c2ffdebad15"
   },
   "outputs": [
    {
     "data": {
      "text/plain": [
       "(1209601, 130)"
      ]
     },
     "execution_count": 255,
     "metadata": {},
     "output_type": "execute_result"
    }
   ],
   "source": [
    "#Read data\n",
    "normal = pd.read_csv(\"input/WADI_14days.csv\",sep=',', skiprows=[0,1,2,3],skip_blank_lines=True)#, nrows=1000)\n",
    "normal.shape"
   ]
  },
  {
   "cell_type": "code",
   "execution_count": 256,
   "metadata": {},
   "outputs": [
    {
     "data": {
      "text/plain": [
       "(241921, 123)"
      ]
     },
     "execution_count": 256,
     "metadata": {},
     "output_type": "execute_result"
    }
   ],
   "source": [
    "normal = normal.drop(normal.columns[[0,1,2,50,51,86,87]],axis=1) # drop the empty columns and the date/time columns\n",
    "\n",
    "#Downsampling\n",
    "normal=normal.groupby(np.arange(len(normal.index)) // 5).mean()\n",
    "normal.shape"
   ]
  },
  {
   "cell_type": "code",
   "execution_count": 257,
   "metadata": {
    "id": "fFuLm1GH1G2n"
   },
   "outputs": [],
   "source": [
    "# Transform all columns into float64\n",
    "normal = normal.astype(float)"
   ]
  },
  {
   "cell_type": "markdown",
   "metadata": {
    "id": "zxFNH5kU9hIE"
   },
   "source": [
    "#### Normalization"
   ]
  },
  {
   "cell_type": "code",
   "execution_count": 258,
   "metadata": {
    "id": "Mfxj4Uxn9kv4"
   },
   "outputs": [],
   "source": [
    "from sklearn import preprocessing\n",
    "min_max_scaler = preprocessing.MinMaxScaler()\n",
    "x = normal.values\n",
    "x_scaled = min_max_scaler.fit_transform(x)\n",
    "normal = pd.DataFrame(x_scaled)\n",
    "\n",
    "# x = normal.values\n",
    "# x_max=np.nanmax(x) \n",
    "# x_min=np.nanmin(x)\n",
    "# x_std = (x - x_min)/(x_max - x_min)\n",
    "# normal = pd.DataFrame(x_std)"
   ]
  },
  {
   "cell_type": "code",
   "execution_count": 259,
   "metadata": {
    "colab": {
     "base_uri": "https://localhost:8080/",
     "height": 126
    },
    "id": "mQ6_U4jn9nlw",
    "outputId": "f1cc1bd6-f1cc-4764-b1cc-2fd989ac4918"
   },
   "outputs": [
    {
     "data": {
      "text/html": [
       "<div>\n",
       "<style scoped>\n",
       "    .dataframe tbody tr th:only-of-type {\n",
       "        vertical-align: middle;\n",
       "    }\n",
       "\n",
       "    .dataframe tbody tr th {\n",
       "        vertical-align: top;\n",
       "    }\n",
       "\n",
       "    .dataframe thead th {\n",
       "        text-align: right;\n",
       "    }\n",
       "</style>\n",
       "<table border=\"1\" class=\"dataframe\">\n",
       "  <thead>\n",
       "    <tr style=\"text-align: right;\">\n",
       "      <th></th>\n",
       "      <th>0</th>\n",
       "      <th>1</th>\n",
       "      <th>2</th>\n",
       "      <th>3</th>\n",
       "      <th>4</th>\n",
       "      <th>5</th>\n",
       "      <th>6</th>\n",
       "      <th>7</th>\n",
       "      <th>8</th>\n",
       "      <th>9</th>\n",
       "      <th>...</th>\n",
       "      <th>113</th>\n",
       "      <th>114</th>\n",
       "      <th>115</th>\n",
       "      <th>116</th>\n",
       "      <th>117</th>\n",
       "      <th>118</th>\n",
       "      <th>119</th>\n",
       "      <th>120</th>\n",
       "      <th>121</th>\n",
       "      <th>122</th>\n",
       "    </tr>\n",
       "  </thead>\n",
       "  <tbody>\n",
       "    <tr>\n",
       "      <th>0</th>\n",
       "      <td>0.798635</td>\n",
       "      <td>0.302718</td>\n",
       "      <td>0.950277</td>\n",
       "      <td>0.958459</td>\n",
       "      <td>0.515595</td>\n",
       "      <td>0.000163</td>\n",
       "      <td>0.0</td>\n",
       "      <td>0.0</td>\n",
       "      <td>0.477192</td>\n",
       "      <td>0.5</td>\n",
       "      <td>...</td>\n",
       "      <td>0.0</td>\n",
       "      <td>0.0</td>\n",
       "      <td>0.0</td>\n",
       "      <td>0.0</td>\n",
       "      <td>0.0</td>\n",
       "      <td>0.0</td>\n",
       "      <td>0.0</td>\n",
       "      <td>0.225335</td>\n",
       "      <td>0.0</td>\n",
       "      <td>0.300885</td>\n",
       "    </tr>\n",
       "    <tr>\n",
       "      <th>1</th>\n",
       "      <td>0.798631</td>\n",
       "      <td>0.299764</td>\n",
       "      <td>0.950126</td>\n",
       "      <td>0.958501</td>\n",
       "      <td>0.515983</td>\n",
       "      <td>0.000183</td>\n",
       "      <td>0.0</td>\n",
       "      <td>0.0</td>\n",
       "      <td>0.477861</td>\n",
       "      <td>0.5</td>\n",
       "      <td>...</td>\n",
       "      <td>0.0</td>\n",
       "      <td>0.0</td>\n",
       "      <td>0.0</td>\n",
       "      <td>0.0</td>\n",
       "      <td>0.0</td>\n",
       "      <td>0.0</td>\n",
       "      <td>0.0</td>\n",
       "      <td>0.214161</td>\n",
       "      <td>0.0</td>\n",
       "      <td>0.300885</td>\n",
       "    </tr>\n",
       "  </tbody>\n",
       "</table>\n",
       "<p>2 rows × 123 columns</p>\n",
       "</div>"
      ],
      "text/plain": [
       "        0         1         2         3         4         5    6    7    \\\n",
       "0  0.798635  0.302718  0.950277  0.958459  0.515595  0.000163  0.0  0.0   \n",
       "1  0.798631  0.299764  0.950126  0.958501  0.515983  0.000183  0.0  0.0   \n",
       "\n",
       "        8    9    ...  113  114  115  116  117  118  119       120  121  \\\n",
       "0  0.477192  0.5  ...  0.0  0.0  0.0  0.0  0.0  0.0  0.0  0.225335  0.0   \n",
       "1  0.477861  0.5  ...  0.0  0.0  0.0  0.0  0.0  0.0  0.0  0.214161  0.0   \n",
       "\n",
       "        122  \n",
       "0  0.300885  \n",
       "1  0.300885  \n",
       "\n",
       "[2 rows x 123 columns]"
      ]
     },
     "execution_count": 259,
     "metadata": {},
     "output_type": "execute_result"
    }
   ],
   "source": [
    "normal.head(2)"
   ]
  },
  {
   "cell_type": "code",
   "execution_count": 260,
   "metadata": {},
   "outputs": [
    {
     "data": {
      "text/plain": [
       "5"
      ]
     },
     "execution_count": 260,
     "metadata": {},
     "output_type": "execute_result"
    }
   ],
   "source": [
    "'''Note that there exists NaN in the dataframe'''\n",
    "#normal.isnull().values.any()\n",
    "# normal.isnull().sum()\n",
    "normal.isnull().sum().sum()"
   ]
  },
  {
   "cell_type": "code",
   "execution_count": 261,
   "metadata": {},
   "outputs": [],
   "source": [
    "normal=normal.fillna(0)"
   ]
  },
  {
   "cell_type": "markdown",
   "metadata": {
    "id": "_i71RFAi9spa"
   },
   "source": [
    "### Attack"
   ]
  },
  {
   "cell_type": "code",
   "execution_count": 262,
   "metadata": {
    "colab": {
     "base_uri": "https://localhost:8080/",
     "height": 87
    },
    "id": "aN_TFp5x9uTE",
    "outputId": "38d7993d-c9a3-461d-c430-ebde697afbc6"
   },
   "outputs": [
    {
     "data": {
      "text/plain": [
       "(172801, 130)"
      ]
     },
     "execution_count": 262,
     "metadata": {},
     "output_type": "execute_result"
    }
   ],
   "source": [
    "#Read data\n",
    "attack = pd.read_csv(\"input/WADI_attackdata.csv\",sep=\",\")#, nrows=1000)\n",
    "attack.shape"
   ]
  },
  {
   "cell_type": "code",
   "execution_count": 263,
   "metadata": {},
   "outputs": [],
   "source": [
    "labels=[]\n",
    "\n",
    "attack.reset_index()\n",
    "for index, row in attack.iterrows():\n",
    "    date_temp=row['Date']\n",
    "    date_mask=\"%m/%d/%Y\"\n",
    "    date_obj=datetime.strptime(date_temp, date_mask)\n",
    "    time_temp=row['Time']\n",
    "    time_mask=\"%I:%M:%S.%f %p\"\n",
    "    time_obj=datetime.strptime(time_temp,time_mask)\n",
    "\n",
    "    if date_obj==datetime.strptime('10/9/2017', '%m/%d/%Y'):\n",
    "        if time_obj>=datetime.strptime('7:25:00.000 PM', '%I:%M:%S.%f %p') and time_obj<=datetime.strptime('7:50:16.000 PM', '%I:%M:%S.%f %p'):\n",
    "            labels.append('Attack')\n",
    "            continue\n",
    "\n",
    "    if date_obj==datetime.strptime('10/10/2017', '%m/%d/%Y'):\n",
    "        if time_obj>=datetime.strptime('10:24:10.000 AM', '%I:%M:%S.%f %p') and time_obj<=datetime.strptime('10:34:00.000 AM', '%I:%M:%S.%f %p'):\n",
    "            labels.append('Attack')\n",
    "            continue\n",
    "        elif time_obj>=datetime.strptime('10:55:00.000 AM', '%I:%M:%S.%f %p') and time_obj<=datetime.strptime('11:24:00.000 AM', '%I:%M:%S.%f %p'):\n",
    "            labels.append('Attack')\n",
    "            continue\n",
    "        elif time_obj>=datetime.strptime('11:30:40.000 AM', '%I:%M:%S.%f %p') and time_obj<=datetime.strptime('11:44:50.000 AM', '%I:%M:%S.%f %p'):\n",
    "            labels.append('Attack')\n",
    "            continue\n",
    "        elif time_obj>=datetime.strptime('1:39:30.000 PM', '%I:%M:%S.%f %p') and time_obj<=datetime.strptime('1:50:40.000 PM', '%I:%M:%S.%f %p'):\n",
    "            labels.append('Attack')\n",
    "            continue\n",
    "        elif time_obj>=datetime.strptime('2:48:17.000 PM', '%I:%M:%S.%f %p') and time_obj<=datetime.strptime('2:59:55.000 PM', '%I:%M:%S.%f %p'):\n",
    "            labels.append('Attack')\n",
    "            continue\n",
    "        elif time_obj>=datetime.strptime('5:40:00.000 PM', '%I:%M:%S.%f %p') and time_obj<=datetime.strptime('5:49:40.000 PM', '%I:%M:%S.%f %p'):\n",
    "            labels.append('Attack')\n",
    "            continue\n",
    "        elif time_obj>=datetime.strptime('10:55:00.000 AM', '%I:%M:%S.%f %p') and time_obj<=datetime.strptime('10:56:27.000 AM', '%I:%M:%S.%f %p'):\n",
    "            labels.append('Attack')\n",
    "            continue\n",
    "    \n",
    "    if date_obj==datetime.strptime('10/11/2017', '%m/%d/%Y'):\n",
    "        if time_obj>=datetime.strptime('11:17:54.000 AM', '%I:%M:%S.%f %p') and time_obj<=datetime.strptime('11:31:20.000 AM', '%I:%M:%S.%f %p'):\n",
    "            labels.append('Attack')\n",
    "            continue\n",
    "        elif time_obj>=datetime.strptime('11:36:31.000 AM', '%I:%M:%S.%f %p') and time_obj<=datetime.strptime('11:47:00.000 AM', '%I:%M:%S.%f %p'):\n",
    "            labels.append('Attack')\n",
    "            continue\n",
    "        elif time_obj>=datetime.strptime('11:59:00.000 AM', '%I:%M:%S.%f %p') and time_obj<=datetime.strptime('12:05:00.000 PM', '%I:%M:%S.%f %p'):\n",
    "            labels.append('Attack')\n",
    "            continue\n",
    "        elif time_obj>=datetime.strptime('12:07:30.000 PM', '%I:%M:%S.%f %p') and time_obj<=datetime.strptime('12:10:52.000 PM', '%I:%M:%S.%f %p'):\n",
    "            labels.append('Attack')\n",
    "            continue\n",
    "        elif time_obj>=datetime.strptime('12:16:00.000 PM', '%I:%M:%S.%f %p') and time_obj<=datetime.strptime('12:25:36.000 PM', '%I:%M:%S.%f %p'):\n",
    "            labels.append('Attack')\n",
    "            continue\n",
    "        elif time_obj>=datetime.strptime('3:26:30.000 PM', '%I:%M:%S.%f %p') and time_obj<=datetime.strptime('3:37:00.000 PM', '%I:%M:%S.%f %p'):\n",
    "            labels.append('Attack')\n",
    "            continue\n",
    "\n",
    "    labels.append('Normal')\n",
    "        \n"
   ]
  },
  {
   "cell_type": "code",
   "execution_count": 264,
   "metadata": {},
   "outputs": [
    {
     "data": {
      "text/plain": [
       "(34561, 123)"
      ]
     },
     "execution_count": 264,
     "metadata": {},
     "output_type": "execute_result"
    }
   ],
   "source": [
    "attack=attack.drop(attack.columns[[0,1,2,50,51,86,87]],axis=1) # Drop the empty and date/time columns\n",
    "\n",
    "#Downsampling the attack data\n",
    "attack=attack.groupby(np.arange(len(attack.index)) // 5).mean()\n",
    "attack.shape"
   ]
  },
  {
   "cell_type": "code",
   "execution_count": 265,
   "metadata": {},
   "outputs": [
    {
     "name": "stdout",
     "output_type": "stream",
     "text": [
      "34561\n"
     ]
    }
   ],
   "source": [
    "#Downsampling the labels\n",
    "labels_down=[]\n",
    "for i in range(len(labels)//5):\n",
    "    if labels[5*i:5*(i+1)].count('Attack'):\n",
    "        labels_down.append(1.0) #Attack\n",
    "    else:\n",
    "        labels_down.append(0.0) #Normal\n",
    "\n",
    "#for the last few labels that are not within a full-length window\n",
    "if labels[5*(i+1):].count('Attack'):\n",
    "    labels_down.append(1.0) #Attack\n",
    "else:\n",
    "    labels_down.append(0.0) #Normal\n",
    "\n",
    "print(len(labels_down))"
   ]
  },
  {
   "cell_type": "code",
   "execution_count": 266,
   "metadata": {},
   "outputs": [],
   "source": [
    "# '''Check if there exists NaN in the attack data'''\n",
    "# #attack.isnull().values.any()\n",
    "# # attack.isnull().sum()\n",
    "# attack.isnull().sum().sum()"
   ]
  },
  {
   "cell_type": "code",
   "execution_count": 267,
   "metadata": {
    "id": "qLCInT-I9_-D"
   },
   "outputs": [],
   "source": [
    "# Transform all columns into float64\n",
    "attack = attack.astype(float)"
   ]
  },
  {
   "cell_type": "markdown",
   "metadata": {
    "id": "c4cB4v3N-Dhu"
   },
   "source": [
    "#### Normalization"
   ]
  },
  {
   "cell_type": "code",
   "execution_count": 268,
   "metadata": {
    "id": "jZrha9cO-BGK"
   },
   "outputs": [],
   "source": [
    "from sklearn import preprocessing\n",
    "x = attack.values \n",
    "x_scaled = min_max_scaler.transform(x)\n",
    "attack = pd.DataFrame(x_scaled)\n",
    "\n",
    "# x = attack.values \n",
    "# x_std = (x - x_min)/(x_max - x_min)\n",
    "# attack = pd.DataFrame(x_std)"
   ]
  },
  {
   "cell_type": "code",
   "execution_count": 269,
   "metadata": {
    "colab": {
     "base_uri": "https://localhost:8080/",
     "height": 126
    },
    "id": "z9SwiPco-BUa",
    "outputId": "f2507282-c0f9-4253-ece7-0a802b68240f"
   },
   "outputs": [
    {
     "data": {
      "text/html": [
       "<div>\n",
       "<style scoped>\n",
       "    .dataframe tbody tr th:only-of-type {\n",
       "        vertical-align: middle;\n",
       "    }\n",
       "\n",
       "    .dataframe tbody tr th {\n",
       "        vertical-align: top;\n",
       "    }\n",
       "\n",
       "    .dataframe thead th {\n",
       "        text-align: right;\n",
       "    }\n",
       "</style>\n",
       "<table border=\"1\" class=\"dataframe\">\n",
       "  <thead>\n",
       "    <tr style=\"text-align: right;\">\n",
       "      <th></th>\n",
       "      <th>0</th>\n",
       "      <th>1</th>\n",
       "      <th>2</th>\n",
       "      <th>3</th>\n",
       "      <th>4</th>\n",
       "      <th>5</th>\n",
       "      <th>6</th>\n",
       "      <th>7</th>\n",
       "      <th>8</th>\n",
       "      <th>9</th>\n",
       "      <th>...</th>\n",
       "      <th>113</th>\n",
       "      <th>114</th>\n",
       "      <th>115</th>\n",
       "      <th>116</th>\n",
       "      <th>117</th>\n",
       "      <th>118</th>\n",
       "      <th>119</th>\n",
       "      <th>120</th>\n",
       "      <th>121</th>\n",
       "      <th>122</th>\n",
       "    </tr>\n",
       "  </thead>\n",
       "  <tbody>\n",
       "    <tr>\n",
       "      <th>0</th>\n",
       "      <td>0.766229</td>\n",
       "      <td>0.260764</td>\n",
       "      <td>0.984977</td>\n",
       "      <td>0.916341</td>\n",
       "      <td>0.575580</td>\n",
       "      <td>0.000210</td>\n",
       "      <td>0.0</td>\n",
       "      <td>0.0</td>\n",
       "      <td>0.483652</td>\n",
       "      <td>0.5</td>\n",
       "      <td>...</td>\n",
       "      <td>0.0</td>\n",
       "      <td>0.0</td>\n",
       "      <td>0.0</td>\n",
       "      <td>0.0</td>\n",
       "      <td>0.0</td>\n",
       "      <td>0.0</td>\n",
       "      <td>0.0</td>\n",
       "      <td>0.174374</td>\n",
       "      <td>0.0</td>\n",
       "      <td>0.172566</td>\n",
       "    </tr>\n",
       "    <tr>\n",
       "      <th>1</th>\n",
       "      <td>0.766236</td>\n",
       "      <td>0.267854</td>\n",
       "      <td>0.984806</td>\n",
       "      <td>0.916332</td>\n",
       "      <td>0.576012</td>\n",
       "      <td>0.000131</td>\n",
       "      <td>0.0</td>\n",
       "      <td>0.0</td>\n",
       "      <td>0.483018</td>\n",
       "      <td>0.5</td>\n",
       "      <td>...</td>\n",
       "      <td>0.0</td>\n",
       "      <td>0.0</td>\n",
       "      <td>0.0</td>\n",
       "      <td>0.0</td>\n",
       "      <td>0.0</td>\n",
       "      <td>0.0</td>\n",
       "      <td>0.0</td>\n",
       "      <td>0.174314</td>\n",
       "      <td>0.0</td>\n",
       "      <td>0.172566</td>\n",
       "    </tr>\n",
       "  </tbody>\n",
       "</table>\n",
       "<p>2 rows × 123 columns</p>\n",
       "</div>"
      ],
      "text/plain": [
       "        0         1         2         3         4         5    6    7    \\\n",
       "0  0.766229  0.260764  0.984977  0.916341  0.575580  0.000210  0.0  0.0   \n",
       "1  0.766236  0.267854  0.984806  0.916332  0.576012  0.000131  0.0  0.0   \n",
       "\n",
       "        8    9    ...  113  114  115  116  117  118  119       120  121  \\\n",
       "0  0.483652  0.5  ...  0.0  0.0  0.0  0.0  0.0  0.0  0.0  0.174374  0.0   \n",
       "1  0.483018  0.5  ...  0.0  0.0  0.0  0.0  0.0  0.0  0.0  0.174314  0.0   \n",
       "\n",
       "        122  \n",
       "0  0.172566  \n",
       "1  0.172566  \n",
       "\n",
       "[2 rows x 123 columns]"
      ]
     },
     "execution_count": 269,
     "metadata": {},
     "output_type": "execute_result"
    }
   ],
   "source": [
    "attack.head(2)"
   ]
  },
  {
   "cell_type": "markdown",
   "metadata": {
    "id": "xXJi503b-j_d"
   },
   "source": [
    "### Windows"
   ]
  },
  {
   "cell_type": "code",
   "execution_count": 270,
   "metadata": {
    "id": "vyplttZa-BRN"
   },
   "outputs": [],
   "source": [
    "window_size=10"
   ]
  },
  {
   "cell_type": "code",
   "execution_count": 271,
   "metadata": {
    "colab": {
     "base_uri": "https://localhost:8080/",
     "height": 34
    },
    "id": "dzGJMp6Y-BN5",
    "outputId": "2949d278-1313-442c-f06b-275a8c6c6578"
   },
   "outputs": [
    {
     "data": {
      "text/plain": [
       "(241911, 10, 123)"
      ]
     },
     "execution_count": 271,
     "metadata": {},
     "output_type": "execute_result"
    }
   ],
   "source": [
    "windows_normal=normal.values[np.arange(window_size)[None, :] + np.arange(normal.shape[0]-window_size)[:, None]]\n",
    "windows_normal.shape"
   ]
  },
  {
   "cell_type": "code",
   "execution_count": 272,
   "metadata": {
    "colab": {
     "base_uri": "https://localhost:8080/",
     "height": 34
    },
    "id": "17LdB3c8-pRH",
    "outputId": "721059d4-5937-4dd3-d73c-e5d255fc273c"
   },
   "outputs": [
    {
     "data": {
      "text/plain": [
       "(34551, 10, 123)"
      ]
     },
     "execution_count": 272,
     "metadata": {},
     "output_type": "execute_result"
    }
   ],
   "source": [
    "windows_attack=attack.values[np.arange(window_size)[None, :] + np.arange(attack.shape[0]-window_size)[:, None]]\n",
    "windows_attack.shape"
   ]
  },
  {
   "cell_type": "markdown",
   "metadata": {
    "id": "k70ZFxGs-_7m"
   },
   "source": [
    "## Training"
   ]
  },
  {
   "cell_type": "code",
   "execution_count": 428,
   "metadata": {
    "id": "yi9S0SGnDKNc"
   },
   "outputs": [],
   "source": [
    "import torch.utils.data as data_utils\n",
    "\n",
    "BATCH_SIZE =  8000\n",
    "N_EPOCHS = 70\n",
    "hidden_size = 100\n",
    "\n",
    "w_size=windows_normal.shape[1]*windows_normal.shape[2]\n",
    "z_size=windows_normal.shape[1]*hidden_size\n",
    "\n",
    "windows_normal_train = windows_normal[:int(np.floor(.8 *  windows_normal.shape[0]))]\n",
    "windows_normal_val = windows_normal[int(np.floor(.8 *  windows_normal.shape[0])):int(np.floor(windows_normal.shape[0]))]\n",
    "\n",
    "train_loader = torch.utils.data.DataLoader(data_utils.TensorDataset(\n",
    "    torch.from_numpy(windows_normal_train).float().view(([windows_normal_train.shape[0],w_size]))\n",
    ") , batch_size=BATCH_SIZE, shuffle=False, num_workers=0)\n",
    "\n",
    "val_loader = torch.utils.data.DataLoader(data_utils.TensorDataset(\n",
    "    torch.from_numpy(windows_normal_val).float().view(([windows_normal_val.shape[0],w_size]))\n",
    ") , batch_size=BATCH_SIZE, shuffle=False, num_workers=0)\n",
    "\n",
    "test_loader = torch.utils.data.DataLoader(data_utils.TensorDataset(\n",
    "    torch.from_numpy(windows_attack).float().view(([windows_attack.shape[0],w_size]))\n",
    ") , batch_size=BATCH_SIZE, shuffle=False, num_workers=0)\n",
    "\n",
    "model = UsadModel(w_size, z_size)\n",
    "model = to_device(model,device)"
   ]
  },
  {
   "cell_type": "code",
   "execution_count": 429,
   "metadata": {
    "colab": {
     "base_uri": "https://localhost:8080/",
     "height": 1000
    },
    "id": "So9yjDPEDObC",
    "outputId": "629bcd13-37b1-4907-ef0d-46d9e3ad5398",
    "scrolled": true
   },
   "outputs": [
    {
     "name": "stdout",
     "output_type": "stream",
     "text": [
      "Epoch [0], val_loss1: 0.0317, val_loss2: 0.0322\n",
      "Epoch [1], val_loss1: 0.0310, val_loss2: -0.0007\n",
      "Epoch [2], val_loss1: 0.0394, val_loss2: -0.0157\n",
      "Epoch [3], val_loss1: 0.0305, val_loss2: -0.0158\n",
      "Epoch [4], val_loss1: 0.0331, val_loss2: -0.0208\n",
      "Epoch [5], val_loss1: 0.0362, val_loss2: -0.0253\n",
      "Epoch [6], val_loss1: 0.0335, val_loss2: -0.0248\n",
      "Epoch [7], val_loss1: 0.0331, val_loss2: -0.0257\n",
      "Epoch [8], val_loss1: 0.0423, val_loss2: -0.0342\n",
      "Epoch [9], val_loss1: 0.0385, val_loss2: -0.0320\n",
      "Epoch [10], val_loss1: 0.0362, val_loss2: -0.0305\n",
      "Epoch [11], val_loss1: 0.0357, val_loss2: -0.0306\n",
      "Epoch [12], val_loss1: 0.0352, val_loss2: -0.0305\n",
      "Epoch [13], val_loss1: 0.0354, val_loss2: -0.0309\n",
      "Epoch [14], val_loss1: 0.0347, val_loss2: -0.0306\n",
      "Epoch [15], val_loss1: 0.0349, val_loss2: -0.0310\n",
      "Epoch [16], val_loss1: 0.0348, val_loss2: -0.0311\n",
      "Epoch [17], val_loss1: 0.0365, val_loss2: -0.0330\n",
      "Epoch [18], val_loss1: 0.0370, val_loss2: -0.0336\n",
      "Epoch [19], val_loss1: 0.0362, val_loss2: -0.0331\n",
      "Epoch [20], val_loss1: 0.0373, val_loss2: -0.0343\n",
      "Epoch [21], val_loss1: 0.0623, val_loss2: -0.0571\n",
      "Epoch [22], val_loss1: 0.0854, val_loss2: -0.0805\n",
      "Epoch [23], val_loss1: 0.0872, val_loss2: -0.0828\n",
      "Epoch [24], val_loss1: 0.0881, val_loss2: -0.0842\n",
      "Epoch [25], val_loss1: 0.0882, val_loss2: -0.0847\n",
      "Epoch [26], val_loss1: 0.0885, val_loss2: -0.0840\n",
      "Epoch [27], val_loss1: 0.0884, val_loss2: -0.0843\n",
      "Epoch [28], val_loss1: 0.0886, val_loss2: -0.0844\n",
      "Epoch [29], val_loss1: 0.0886, val_loss2: -0.0847\n",
      "Epoch [30], val_loss1: 0.0886, val_loss2: -0.0848\n",
      "Epoch [31], val_loss1: 0.0886, val_loss2: -0.0850\n",
      "Epoch [32], val_loss1: 0.0887, val_loss2: -0.0852\n",
      "Epoch [33], val_loss1: 0.0887, val_loss2: -0.0854\n",
      "Epoch [34], val_loss1: 0.0888, val_loss2: -0.0855\n",
      "Epoch [35], val_loss1: 0.0888, val_loss2: -0.0857\n",
      "Epoch [36], val_loss1: 0.0889, val_loss2: -0.0858\n",
      "Epoch [37], val_loss1: 0.0893, val_loss2: -0.0859\n",
      "Epoch [38], val_loss1: 0.0892, val_loss2: -0.0861\n",
      "Epoch [39], val_loss1: 0.0892, val_loss2: -0.0862\n",
      "Epoch [40], val_loss1: 0.0892, val_loss2: -0.0863\n",
      "Epoch [41], val_loss1: 0.0892, val_loss2: -0.0864\n",
      "Epoch [42], val_loss1: 0.0893, val_loss2: -0.0865\n",
      "Epoch [43], val_loss1: 0.0893, val_loss2: -0.0866\n",
      "Epoch [44], val_loss1: 0.0893, val_loss2: -0.0867\n",
      "Epoch [45], val_loss1: 0.0894, val_loss2: -0.0868\n",
      "Epoch [46], val_loss1: 0.0894, val_loss2: -0.0868\n",
      "Epoch [47], val_loss1: 0.0894, val_loss2: -0.0869\n",
      "Epoch [48], val_loss1: 0.0894, val_loss2: -0.0870\n",
      "Epoch [49], val_loss1: 0.0894, val_loss2: -0.0871\n",
      "Epoch [50], val_loss1: 0.0895, val_loss2: -0.0871\n",
      "Epoch [51], val_loss1: 0.0895, val_loss2: -0.0872\n",
      "Epoch [52], val_loss1: 0.0895, val_loss2: -0.0873\n",
      "Epoch [53], val_loss1: 0.0895, val_loss2: -0.0873\n",
      "Epoch [54], val_loss1: 0.0895, val_loss2: -0.0874\n",
      "Epoch [55], val_loss1: 0.0896, val_loss2: -0.0875\n",
      "Epoch [56], val_loss1: 0.0896, val_loss2: -0.0875\n",
      "Epoch [57], val_loss1: 0.0896, val_loss2: -0.0876\n",
      "Epoch [58], val_loss1: 0.0896, val_loss2: -0.0876\n",
      "Epoch [59], val_loss1: 0.0896, val_loss2: -0.0877\n",
      "Epoch [60], val_loss1: 0.0896, val_loss2: -0.0877\n",
      "Epoch [61], val_loss1: 0.0896, val_loss2: -0.0878\n",
      "Epoch [62], val_loss1: 0.0897, val_loss2: -0.0878\n",
      "Epoch [63], val_loss1: 0.0897, val_loss2: -0.0879\n",
      "Epoch [64], val_loss1: 0.0897, val_loss2: -0.0879\n",
      "Epoch [65], val_loss1: 0.0897, val_loss2: -0.0880\n",
      "Epoch [66], val_loss1: 0.0897, val_loss2: -0.0880\n",
      "Epoch [67], val_loss1: 0.0897, val_loss2: -0.0880\n",
      "Epoch [68], val_loss1: 0.0897, val_loss2: -0.0881\n",
      "Epoch [69], val_loss1: 0.0897, val_loss2: -0.0881\n"
     ]
    }
   ],
   "source": [
    "history = training(N_EPOCHS,model,train_loader,val_loader) "
   ]
  },
  {
   "cell_type": "code",
   "execution_count": 430,
   "metadata": {
    "colab": {
     "base_uri": "https://localhost:8080/",
     "height": 295
    },
    "id": "fYwlN0JKVVtN",
    "outputId": "c742ff8b-3b4a-41f5-dd09-effee1be928a"
   },
   "outputs": [
    {
     "data": {
      "image/png": "[encoded data removed]",
      "text/plain": [
       "<Figure size 432x288 with 1 Axes>"
      ]
     },
     "metadata": {
      "needs_background": "light"
     },
     "output_type": "display_data"
    }
   ],
   "source": [
    "plot_history(history,\"WADI\")"
   ]
  },
  {
   "cell_type": "code",
   "execution_count": 431,
   "metadata": {
    "id": "ieObNqKYsOzh"
   },
   "outputs": [],
   "source": [
    "torch.save({\n",
    "            'encoder': model.encoder.state_dict(),\n",
    "            'decoder1': model.decoder1.state_dict(),\n",
    "            'decoder2': model.decoder2.state_dict()\n",
    "            }, \"model_WADI.pth\")"
   ]
  },
  {
   "cell_type": "markdown",
   "metadata": {
    "id": "ymhjbmvR_DgJ"
   },
   "source": [
    "## Testing"
   ]
  },
  {
   "cell_type": "code",
   "execution_count": 432,
   "metadata": {
    "colab": {
     "base_uri": "https://localhost:8080/",
     "height": 34
    },
    "id": "b7rbm9wdXKeF",
    "outputId": "076309c7-22be-41f6-f916-5f11cb679672"
   },
   "outputs": [
    {
     "data": {
      "text/plain": [
       "IncompatibleKeys(missing_keys=[], unexpected_keys=[])"
      ]
     },
     "execution_count": 432,
     "metadata": {},
     "output_type": "execute_result"
    }
   ],
   "source": [
    "checkpoint = torch.load(\"model_WADI.pth\")\n",
    "\n",
    "model.encoder.load_state_dict(checkpoint['encoder'])\n",
    "model.decoder1.load_state_dict(checkpoint['decoder1'])\n",
    "model.decoder2.load_state_dict(checkpoint['decoder2'])"
   ]
  },
  {
   "cell_type": "code",
   "execution_count": 433,
   "metadata": {
    "id": "Ry1QTp6V2ny4"
   },
   "outputs": [],
   "source": [
    "results=testing(model,test_loader,alpha=.5, beta=.5)"
   ]
  },
  {
   "cell_type": "code",
   "execution_count": 434,
   "metadata": {},
   "outputs": [],
   "source": [
    "windows_labels=[]\n",
    "for i in range(len(labels_down)-window_size):\n",
    "    windows_labels.append(list(np.int_(labels_down[i:i+window_size])))"
   ]
  },
  {
   "cell_type": "code",
   "execution_count": 435,
   "metadata": {},
   "outputs": [],
   "source": [
    "y_test = [1.0 if (np.sum(window) > 0) else 0 for window in windows_labels] # this is with the point adjust?"
   ]
  },
  {
   "cell_type": "code",
   "execution_count": 436,
   "metadata": {
    "id": "FSWwxheNvxR7"
   },
   "outputs": [],
   "source": [
    "y_pred=np.concatenate([torch.stack(results[:-1]).flatten().detach().cpu().numpy(),\n",
    "                              results[-1].flatten().detach().cpu().numpy()])"
   ]
  },
  {
   "cell_type": "code",
   "execution_count": 437,
   "metadata": {
    "colab": {
     "base_uri": "https://localhost:8080/",
     "height": 279
    },
    "id": "bROUyLM93cG3",
    "outputId": "755359d9-d0fb-4deb-b313-d3c2a2465a26"
   },
   "outputs": [
    {
     "data": {
      "image/png": "[encoded data removed]",
      "text/plain": [
       "<Figure size 432x288 with 1 Axes>"
      ]
     },
     "metadata": {
      "needs_background": "light"
     },
     "output_type": "display_data"
    },
    {
     "data": {
      "text/plain": [
       "array([58.32254], dtype=float32)"
      ]
     },
     "execution_count": 437,
     "metadata": {},
     "output_type": "execute_result"
    }
   ],
   "source": [
    "threshold=ROC(y_test,y_pred)\n",
    "threshold"
   ]
  },
  {
   "cell_type": "code",
   "execution_count": 438,
   "metadata": {},
   "outputs": [],
   "source": [
    "threshold=585.15 # Select your own threshold - this is what I chose purely through trial and error\n",
    "y_pred_label = [1.0 if (score > threshold) else 0 for score in y_pred ]"
   ]
  },
  {
   "cell_type": "code",
   "execution_count": 439,
   "metadata": {},
   "outputs": [
    {
     "name": "stdout",
     "output_type": "stream",
     "text": [
      "precision= 0.9467455621301775\n",
      "recall= 0.1523809523809524\n",
      "f1= 0.2625102543068089\n"
     ]
    }
   ],
   "source": [
    "from sklearn.metrics import precision_score, recall_score, f1_score, classification_report\n",
    "prec=precision_score(y_test,y_pred_label,pos_label=1)\n",
    "recall=recall_score(y_test,y_pred_label,pos_label=1)\n",
    "f1=f1_score(y_test,y_pred_label,pos_label=1)\n",
    "print('precision=',prec)\n",
    "print('recall=',recall)\n",
    "print('f1=',f1)\n"
   ]
  },
  {
   "cell_type": "code",
   "execution_count": null,
   "metadata": {},
   "outputs": [],
   "source": []
  }
 ],
 "metadata": {
  "accelerator": "GPU",
  "colab": {
   "name": "USAD_test.ipynb",
   "provenance": [],
   "toc_visible": true
  },
  "kernelspec": {
   "display_name": "Python 3",
   "language": "python",
   "name": "python3"
  },
  "language_info": {
   "codemirror_mode": {
    "name": "ipython",
    "version": 3
   },
   "file_extension": ".py",
   "mimetype": "text/x-python",
   "name": "python",
   "nbconvert_exporter": "python",
   "pygments_lexer": "ipython3",
   "version": "3.7.11"
  }
 },
 "nbformat": 4,
 "nbformat_minor": 1
}
